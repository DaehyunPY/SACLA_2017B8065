{
 "cells": [
  {
   "cell_type": "code",
   "execution_count": 7,
   "metadata": {},
   "outputs": [],
   "source": [
    "import glob\n",
    "from pprint import pprint\n",
    "from functools import lru_cache\n",
    "\n",
    "import pandas as pd\n",
    "from pymongo import MongoClient\n",
    "from dltools import LmaReader"
   ]
  },
  {
   "cell_type": "code",
   "execution_count": 20,
   "metadata": {},
   "outputs": [
    {
     "data": {
      "text/html": [
       "<div>\n",
       "<style scoped>\n",
       "    .dataframe tbody tr th:only-of-type {\n",
       "        vertical-align: middle;\n",
       "    }\n",
       "\n",
       "    .dataframe tbody tr th {\n",
       "        vertical-align: top;\n",
       "    }\n",
       "\n",
       "    .dataframe thead th {\n",
       "        text-align: right;\n",
       "    }\n",
       "</style>\n",
       "<table border=\"1\" class=\"dataframe\">\n",
       "  <thead>\n",
       "    <tr style=\"text-align: right;\">\n",
       "      <th></th>\n",
       "      <th>gm1</th>\n",
       "      <th>gm2</th>\n",
       "    </tr>\n",
       "  </thead>\n",
       "  <tbody>\n",
       "    <tr>\n",
       "      <th>158648231</th>\n",
       "      <td>0.104167</td>\n",
       "      <td>0.009929</td>\n",
       "    </tr>\n",
       "    <tr>\n",
       "      <th>158648232</th>\n",
       "      <td>0.084764</td>\n",
       "      <td>0.008909</td>\n",
       "    </tr>\n",
       "    <tr>\n",
       "      <th>158648233</th>\n",
       "      <td>0.087543</td>\n",
       "      <td>0.009239</td>\n",
       "    </tr>\n",
       "    <tr>\n",
       "      <th>158648234</th>\n",
       "      <td>0.099000</td>\n",
       "      <td>0.009721</td>\n",
       "    </tr>\n",
       "    <tr>\n",
       "      <th>158648235</th>\n",
       "      <td>0.072193</td>\n",
       "      <td>0.007615</td>\n",
       "    </tr>\n",
       "  </tbody>\n",
       "</table>\n",
       "</div>"
      ],
      "text/plain": [
       "                gm1       gm2\n",
       "158648231  0.104167  0.009929\n",
       "158648232  0.084764  0.008909\n",
       "158648233  0.087543  0.009239\n",
       "158648234  0.099000  0.009721\n",
       "158648235  0.072193  0.007615"
      ]
     },
     "execution_count": 20,
     "metadata": {},
     "output_type": "execute_result"
    }
   ],
   "source": [
    "df = pd.concat([pd.read_csv(fn, sep=\"\\t\", names=[\"gm1\", \"gm2\"]) for fn in glob.iglob(\"Data/ZD aq*.txt\")])\n",
    "df.head()"
   ]
  },
  {
   "cell_type": "code",
   "execution_count": null,
   "metadata": {},
   "outputs": [
    {
     "name": "stdout",
     "output_type": "stream",
     "text": [
      "Update data...\n"
     ]
    }
   ],
   "source": [
    "print(\"Update data...\")\n",
    "with MongoClient(\"mongodb\") as client:\n",
    "    collect = client[\"sacla_2017b8065\"][\"resorted\"]\n",
    "    for tag, d in df.iterrows():\n",
    "        collect.find_one_and_update({\"tag\": tag}, {\"$set\": d.to_dict()})\n",
    "print(\"Done!\")"
   ]
  }
 ],
 "metadata": {
  "kernelspec": {
   "display_name": "Python 3",
   "language": "python",
   "name": "python3"
  },
  "language_info": {
   "codemirror_mode": {
    "name": "ipython",
    "version": 3
   },
   "file_extension": ".py",
   "mimetype": "text/x-python",
   "name": "python",
   "nbconvert_exporter": "python",
   "pygments_lexer": "ipython3",
   "version": "3.7.3"
  }
 },
 "nbformat": 4,
 "nbformat_minor": 2
}
