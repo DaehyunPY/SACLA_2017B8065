{
 "cells": [
  {
   "cell_type": "code",
   "execution_count": 2,
   "metadata": {},
   "outputs": [],
   "source": [
    "from pprint import pprint\n",
    "from itertools import chain, compress, product\n",
    "from functools import reduce, partial, lru_cache\n",
    "from glob import iglob\n",
    "from typing import Generator\n",
    "\n",
    "from numba import jit\n",
    "from yaml import safe_load\n",
    "from cytoolz import compose, merge_with\n",
    "import numpy as np\n",
    "from matplotlib.colors import LogNorm\n",
    "import matplotlib.pyplot as plt\n",
    "from pyspark.sql import SparkSession, Row, DataFrame, functions as f\n",
    "from dltools import load_combiner\n",
    "from dltools.sacla import restructure, load_analyzer"
   ]
  },
  {
   "cell_type": "code",
   "execution_count": 3,
   "metadata": {},
   "outputs": [
    {
     "name": "stdout",
     "output_type": "stream",
     "text": [
      "Loading PySpark...\n",
      "Done!\n"
     ]
    }
   ],
   "source": [
    "# %% Load PySpark\n",
    "builder = (\n",
    "    SparkSession\n",
    "    .builder\n",
    "    .config(\"spark.executor.memory\", \"16g\")\n",
    "    .config(\"spark.driver.memory\", \"16g\")\n",
    "    .config(\"spark.driver.maxResultSize\", \"4g\")\n",
    "    .config(        \n",
    "        \"spark.jars.packages\",\n",
    "        \"org.mongodb.spark:mongo-spark-connector_2.11:2.3.1,\"\n",
    "        \"org.diana-hep:spark-root_2.11:0.1.15,\"\n",
    "    )\n",
    ")\n",
    "\n",
    "print(\"Loading PySpark...\")\n",
    "spark = builder.getOrCreate()\n",
    "print(\"Done!\")"
   ]
  },
  {
   "cell_type": "code",
   "execution_count": 7,
   "metadata": {},
   "outputs": [
    {
     "name": "stdout",
     "output_type": "stream",
     "text": [
      "Loading data...\n",
      "root\n",
      " |-- tag: long (nullable = true)\n",
      " |-- gm2: double (nullable = true)\n",
      " |-- nhits: long (nullable = true)\n",
      "\n",
      "Done!\n"
     ]
    }
   ],
   "source": [
    "# %% Load data\n",
    "from pyspark.sql.types import (\n",
    "    ArrayType, BooleanType, LongType, StructField, StructType, DoubleType,\n",
    ")\n",
    "from dltools import SpkHits\n",
    "\n",
    "\n",
    "print(\"Loading data...\")\n",
    "df = (\n",
    "    spark\n",
    "    .read\n",
    "    .format(\"com.mongodb.spark.sql.DefaultSource\")\n",
    "    .option(\"uri\", \"mongodb://mongodb/sacla_2017b8065.resorted\")\n",
    "    .option(\"pipeline\", \"\"\"[\n",
    "        {\n",
    "            $match: {\n",
    "                aq: {$in: [28, 29, 35, 36]},\n",
    "            },\n",
    "        },\n",
    "        {\n",
    "            $project: {\n",
    "                tag: true,\n",
    "                gm2: true,\n",
    "                nhits: {\n",
    "                    $sum: {\n",
    "                        $map: {\n",
    "                            input: \"$hits\",\n",
    "                            as: \"h\",\n",
    "                            in: {$cond: {if: {$and: [{$gte: [\"$$h.t\", 7360]},  /* CHHII+ */\n",
    "                                                     {$lt: [\"$$h.t\", 7440]}\n",
    "                                                     {$lte: [\"$$h.flag\", 14]}]}, then: 1, else: 0}},\n",
    "                        },                    \n",
    "                    }\n",
    "                },\n",
    "            },\n",
    "        },\n",
    "    ]\"\"\")\n",
    "    .schema(\n",
    "        StructType([\n",
    "            StructField(\"tag\", LongType()),\n",
    "            StructField(\"gm2\", DoubleType()),\n",
    "            StructField(\"nhits\", LongType()),\n",
    "            # StructField(\"hits\", SpkHits),\n",
    "        ])\n",
    "    )\n",
    "    .load()\n",
    "#     .cache()\n",
    ")\n",
    "df.printSchema()\n",
    "# df.show()\n",
    "print(\"Done!\")"
   ]
  },
  {
   "cell_type": "code",
   "execution_count": 8,
   "metadata": {},
   "outputs": [
    {
     "data": {
      "text/html": [
       "<div>\n",
       "<style scoped>\n",
       "    .dataframe tbody tr th:only-of-type {\n",
       "        vertical-align: middle;\n",
       "    }\n",
       "\n",
       "    .dataframe tbody tr th {\n",
       "        vertical-align: top;\n",
       "    }\n",
       "\n",
       "    .dataframe thead th {\n",
       "        text-align: right;\n",
       "    }\n",
       "</style>\n",
       "<table border=\"1\" class=\"dataframe\">\n",
       "  <thead>\n",
       "    <tr style=\"text-align: right;\">\n",
       "      <th></th>\n",
       "      <th>tag</th>\n",
       "      <th>gm2</th>\n",
       "      <th>nhits</th>\n",
       "    </tr>\n",
       "  </thead>\n",
       "  <tbody>\n",
       "    <tr>\n",
       "      <th>0</th>\n",
       "      <td>158648231</td>\n",
       "      <td>0.009929</td>\n",
       "      <td>0</td>\n",
       "    </tr>\n",
       "    <tr>\n",
       "      <th>1</th>\n",
       "      <td>158648232</td>\n",
       "      <td>0.008909</td>\n",
       "      <td>0</td>\n",
       "    </tr>\n",
       "    <tr>\n",
       "      <th>2</th>\n",
       "      <td>158648233</td>\n",
       "      <td>0.009239</td>\n",
       "      <td>0</td>\n",
       "    </tr>\n",
       "    <tr>\n",
       "      <th>3</th>\n",
       "      <td>158648234</td>\n",
       "      <td>0.009721</td>\n",
       "      <td>0</td>\n",
       "    </tr>\n",
       "    <tr>\n",
       "      <th>4</th>\n",
       "      <td>158648235</td>\n",
       "      <td>0.007615</td>\n",
       "      <td>0</td>\n",
       "    </tr>\n",
       "  </tbody>\n",
       "</table>\n",
       "</div>"
      ],
      "text/plain": [
       "         tag       gm2  nhits\n",
       "0  158648231  0.009929      0\n",
       "1  158648232  0.008909      0\n",
       "2  158648233  0.009239      0\n",
       "3  158648234  0.009721      0\n",
       "4  158648235  0.007615      0"
      ]
     },
     "execution_count": 8,
     "metadata": {},
     "output_type": "execute_result"
    }
   ],
   "source": [
    "pdf = df.toPandas()\n",
    "pdf.head()"
   ]
  },
  {
   "cell_type": "code",
   "execution_count": 32,
   "metadata": {},
   "outputs": [
    {
     "data": {
      "image/png": "[encoded data removed]",
      "text/plain": [
       "<Figure size 432x288 with 2 Axes>"
      ]
     },
     "metadata": {
      "needs_background": "light"
     },
     "output_type": "display_data"
    }
   ],
   "source": [
    "step = 0.0005\n",
    "edges = np.arange(0, 0.03, step)\n",
    "shots, _ = np.histogram(pdf[\"gm2\"], bins=edges)\n",
    "hist, _ = np.histogram(pdf[\"gm2\"], weights=pdf[\"nhits\"], bins=edges)\n",
    "where = 1 < hist\n",
    "\n",
    "plt.figure()\n",
    "plt.errorbar(\n",
    "    edges[1:][where] + step / 2,\n",
    "    hist[where] / shots[where],\n",
    "    hist[where] ** 0.5 / shots[where],\n",
    "    fmt=\".\",\n",
    "    capsize=2,\n",
    ")\n",
    "plt.xlim(0, 0.025)\n",
    "plt.ylim(0, 0.006)\n",
    "plt.grid(True)\n",
    "\n",
    "plt.twinx()\n",
    "plt.step(edges[:-1], shots, \"k\")\n",
    "plt.xlim(0, 0.025)\n",
    "plt.ylim(0, None)\n",
    "plt.show()"
   ]
  },
  {
   "cell_type": "code",
   "execution_count": null,
   "metadata": {},
   "outputs": [],
   "source": []
  }
 ],
 "metadata": {
  "kernelspec": {
   "display_name": "Python 3",
   "language": "python",
   "name": "python3"
  },
  "language_info": {
   "codemirror_mode": {
    "name": "ipython",
    "version": 3
   },
   "file_extension": ".py",
   "mimetype": "text/x-python",
   "name": "python",
   "nbconvert_exporter": "python",
   "pygments_lexer": "ipython3",
   "version": "3.7.3"
  }
 },
 "nbformat": 4,
 "nbformat_minor": 2
}
