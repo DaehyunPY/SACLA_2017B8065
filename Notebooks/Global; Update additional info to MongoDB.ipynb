{
 "cells": [
  {
   "cell_type": "code",
   "execution_count": 15,
   "metadata": {},
   "outputs": [],
   "source": [
    "from glob import iglob\n",
    "from pprint import pprint\n",
    "from functools import lru_cache\n",
    "\n",
    "from pymongo import MongoClient\n",
    "from dltools import LmaReader"
   ]
  },
  {
   "cell_type": "code",
   "execution_count": 16,
   "metadata": {},
   "outputs": [
    {
     "name": "stdout",
     "output_type": "stream",
     "text": [
      "[{'aq': 28, 'fr': 156993292, 'to': 157299895},\n",
      " {'aq': 29, 'fr': 157304892, 'to': 157417387},\n",
      " {'aq': 30, 'fr': 157531677, 'to': 157795488},\n",
      " {'aq': 31, 'fr': 157807353, 'to': 157818044},\n",
      " {'aq': 32, 'fr': 157838034, 'to': 157949434},\n",
      " {'aq': 33, 'fr': 157962252, 'to': 158177368},\n",
      " {'aq': 34, 'fr': 158180227, 'to': 158623041},\n",
      " {'aq': 35, 'fr': 158648231, 'to': 158823296},\n",
      " {'aq': 36, 'fr': 158925249, 'to': 158977947}]\n"
     ]
    }
   ],
   "source": [
    "aqlist = range(28, 36 + 1)\n",
    "\n",
    "\n",
    "@lru_cache()\n",
    "def taginfo(aq: int) -> dict:\n",
    "    files = sorted(iglob(f\"/helium/exp/SACLA/2017B8065/lma_files/aq{aq:03d}__*.lma\"))\n",
    "\n",
    "    with LmaReader(files[0]) as f:\n",
    "        tags = (d['tag'] for d in f)\n",
    "        fr = min(tags)\n",
    "\n",
    "    with LmaReader(files[-1]) as f:\n",
    "        tags = (d['tag'] for d in f)\n",
    "        to = max(tags)\n",
    "    \n",
    "    return {\"aq\": aq, \"fr\": fr, \"to\": to}\n",
    "\n",
    "\n",
    "pprint([taginfo(aq) for aq in aqlist])"
   ]
  },
  {
   "cell_type": "code",
   "execution_count": 18,
   "metadata": {},
   "outputs": [
    {
     "name": "stdout",
     "output_type": "stream",
     "text": [
      "Update data...\n",
      "Done!\n"
     ]
    }
   ],
   "source": [
    "print(\"Update data...\")\n",
    "with MongoClient(\"mongodb\") as client:\n",
    "    collect = client[\"sacla_2017b8065\"][\"resorted\"]\n",
    "\n",
    "    for aq in aqlist:\n",
    "        d = taginfo(aq)\n",
    "        collect.update_many(\n",
    "            {\"tag\": {\"$gte\": d[\"fr\"], \"$lte\": d[\"to\"]}},\n",
    "            {\"$set\": {\"aq\": d[\"aq\"]}},\n",
    "        )\n",
    "print(\"Done!\")"
   ]
  }
 ],
 "metadata": {
  "kernelspec": {
   "display_name": "Python 3",
   "language": "python",
   "name": "python3"
  },
  "language_info": {
   "codemirror_mode": {
    "name": "ipython",
    "version": 3
   },
   "file_extension": ".py",
   "mimetype": "text/x-python",
   "name": "python",
   "nbconvert_exporter": "python",
   "pygments_lexer": "ipython3",
   "version": "3.7.0"
  }
 },
 "nbformat": 4,
 "nbformat_minor": 2
}
