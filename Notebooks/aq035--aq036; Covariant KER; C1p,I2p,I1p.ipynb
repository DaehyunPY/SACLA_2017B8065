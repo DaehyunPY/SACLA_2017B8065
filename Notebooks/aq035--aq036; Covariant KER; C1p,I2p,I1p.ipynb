{
 "cells": [
  {
   "cell_type": "code",
   "execution_count": 1,
   "metadata": {},
   "outputs": [],
   "source": [
    "# %% Import packages\n",
    "from pprint import pprint\n",
    "from itertools import chain, compress, product\n",
    "from functools import reduce, partial, lru_cache\n",
    "from glob import iglob\n",
    "from typing import Generator\n",
    "\n",
    "from numba import jit\n",
    "from yaml import safe_load\n",
    "from cytoolz import compose, merge_with\n",
    "import numpy as np\n",
    "from matplotlib.colors import LogNorm\n",
    "import matplotlib.pyplot as plt\n",
    "from pyspark.sql import SparkSession, Row, DataFrame, functions as f\n",
    "from dltools import load_combiner\n",
    "from dltools.sacla import restructure, load_analyzer"
   ]
  },
  {
   "cell_type": "code",
   "execution_count": 2,
   "metadata": {},
   "outputs": [
    {
     "name": "stdout",
     "output_type": "stream",
     "text": [
      "Loading PySpark...\n",
      "Done!\n"
     ]
    }
   ],
   "source": [
    "# %% Load PySpark\n",
    "builder = (\n",
    "    SparkSession\n",
    "    .builder\n",
    "    .config(\"spark.executor.memory\", \"16g\")\n",
    "    .config(\"spark.driver.memory\", \"16g\")\n",
    "    .config(\"spark.driver.maxResultSize\", \"4g\")\n",
    "    .config(        \n",
    "        \"spark.jars.packages\",\n",
    "        \"org.mongodb.spark:mongo-spark-connector_2.12:2.4.0,\"\n",
    "        \"org.diana-hep:spark-root_2.11:0.1.15,\"\n",
    "    )\n",
    ")\n",
    "\n",
    "print(\"Loading PySpark...\")\n",
    "spark = builder.getOrCreate()\n",
    "print(\"Done!\")"
   ]
  },
  {
   "cell_type": "code",
   "execution_count": 3,
   "metadata": {},
   "outputs": [
    {
     "name": "stdout",
     "output_type": "stream",
     "text": [
      "Loading data...\n",
      "root\n",
      " |-- tag: long (nullable = true)\n",
      " |-- hits: array (nullable = true)\n",
      " |    |-- element: struct (containsNull = true)\n",
      " |    |    |-- t: double (nullable = false)\n",
      " |    |    |-- x: double (nullable = false)\n",
      " |    |    |-- y: double (nullable = false)\n",
      " |    |    |-- as_: map (nullable = false)\n",
      " |    |    |    |-- key: string\n",
      " |    |    |    |-- value: struct (valueContainsNull = true)\n",
      " |    |    |    |    |-- pz: double (nullable = false)\n",
      " |    |    |    |    |-- px: double (nullable = false)\n",
      " |    |    |    |    |-- py: double (nullable = false)\n",
      " |    |    |    |    |-- ke: double (nullable = false)\n",
      " |    |    |-- flag: integer (nullable = true)\n",
      "\n",
      "Done!\n"
     ]
    }
   ],
   "source": [
    "# %% Load data\n",
    "from pyspark.sql.types import (\n",
    "    ArrayType, BooleanType, LongType, StructField, StructType, DoubleType,\n",
    ")\n",
    "from dltools import SpkHits\n",
    "\n",
    "\n",
    "print(\"Loading data...\")\n",
    "df = (\n",
    "    spark\n",
    "    .read\n",
    "    .format(\"com.mongodb.spark.sql.DefaultSource\")\n",
    "    .option(\"uri\", \"mongodb://mongodb/sacla_2017b8065.resorted\")\n",
    "    .option(\"pipeline\", \"\"\"[\n",
    "        {\n",
    "            $match: {\n",
    "                aq: {$in: [35, 36]},\n",
    "            },\n",
    "        },\n",
    "        {\n",
    "            $project: {\n",
    "                tag: true,\n",
    "                hits: {\n",
    "                    $filter: {\n",
    "                        input: \"$hits\",\n",
    "                        as: \"item\",\n",
    "                        cond: {$and: [{$lte: [\"$$item.flag\", 6]},\n",
    "                                      {$or: [{$ne: [\"$$item.as_.C1p\", undefined]},\n",
    "                                             {$ne: [\"$$item.as_.I1p\", undefined]},\n",
    "                                             {$ne: [\"$$item.as_.I2p\", undefined]}]}]},\n",
    "                    },\n",
    "                },\n",
    "            },\n",
    "        },\n",
    "    ]\"\"\")\n",
    "    .schema(\n",
    "        StructType([\n",
    "            StructField(\"tag\", LongType()),\n",
    "            StructField(\"hits\", SpkHits)\n",
    "        ])\n",
    "    )\n",
    "    .load()\n",
    ")\n",
    "df.printSchema()\n",
    "print(\"Done!\")"
   ]
  },
  {
   "cell_type": "code",
   "execution_count": 4,
   "metadata": {},
   "outputs": [],
   "source": [
    "import typing\n",
    "import pyspark\n",
    "from dltools.cov import cov3d_complicated\n",
    "\n",
    "\n",
    "def ishit0(hit: pyspark.sql.Row) -> bool:\n",
    "    return \"C1p\" in hit[\"as_\"]\n",
    "\n",
    "\n",
    "def ishit1(hit: pyspark.sql.Row) -> bool:\n",
    "    return \"I2p\" in hit[\"as_\"]\n",
    "\n",
    "\n",
    "def ishit2(hit: pyspark.sql.Row) -> bool:\n",
    "    return \"I1p\" in hit[\"as_\"]\n",
    "\n",
    "\n",
    "combined = cov3d_complicated(\n",
    "    df, ishit0, ishit1, ishit2,\n",
    "    npart=60,\n",
    "    opt1={\n",
    "        \"npart\": 12,\n",
    "    },\n",
    "    opt2={\n",
    "        \"fraction\": 0.2,\n",
    "        \"npart\": 60,\n",
    "    },\n",
    "    opt3={\n",
    "        \"fraction\": 0.02,\n",
    "        \"npart\": 60,\n",
    "    },\n",
    ")"
   ]
  },
  {
   "cell_type": "code",
   "execution_count": 5,
   "metadata": {},
   "outputs": [],
   "source": [
    "def hist_ker(rows: typing.List[pyspark.sql.Row]) -> typing.List[np.ndarray]:\n",
    "    ret, *_ = np.histogram(\n",
    "        [\n",
    "            r[\"hit0\"][\"as_\"][\"C1p\"][\"ke\"]\n",
    "            + r[\"hit1\"][\"as_\"][\"I2p\"][\"ke\"]\n",
    "            + r[\"hit2\"][\"as_\"][\"I1p\"][\"ke\"]\n",
    "            for r in rows\n",
    "            if (-200 < (r[\"hit0\"][\"as_\"][\"C1p\"][\"px\"] + r[\"hit1\"][\"as_\"][\"I2p\"][\"px\"] + r[\"hit2\"][\"as_\"][\"I1p\"][\"px\"]) < 200\n",
    "                and -100 < (r[\"hit0\"][\"as_\"][\"C1p\"][\"py\"] + r[\"hit1\"][\"as_\"][\"I2p\"][\"py\"] + r[\"hit2\"][\"as_\"][\"I1p\"][\"py\"]) < 100\n",
    "                and -100 < (r[\"hit0\"][\"as_\"][\"C1p\"][\"pz\"] + r[\"hit1\"][\"as_\"][\"I2p\"][\"pz\"] + r[\"hit2\"][\"as_\"][\"I1p\"][\"pz\"]) < 100)\n",
    "        ],\n",
    "        bins=np.linspace(0, 100, 101),\n",
    "    )\n",
    "    return [ret]"
   ]
  },
  {
   "cell_type": "code",
   "execution_count": 6,
   "metadata": {},
   "outputs": [
    {
     "data": {
      "image/png": "[encoded data removed]",
      "text/plain": [
       "<Figure size 432x432 with 1 Axes>"
      ]
     },
     "metadata": {
      "needs_background": "light"
     },
     "output_type": "display_data"
    }
   ],
   "source": [
    "x = np.linspace(0, 100, 101)[1:]\n",
    "n = combined(hist_ker)[\"N\"]\n",
    "\n",
    "plt.figure(figsize=(6, 6))\n",
    "plt.step(\n",
    "    x, combined(hist_ker)[\"Cov[X,Y,Z]\"] * n,\n",
    "    label=\"Cov[X,Y,Z] * N\",\n",
    ")\n",
    "plt.step(\n",
    "    x, combined(hist_ker)[\"Sum[XYZ]\"],\n",
    "    label=\"Sum[XYZ]\",\n",
    ")\n",
    "plt.step(\n",
    "    x, combined(hist_ker)[\"Sum[XY]Sum[Z]\"] / n,\n",
    "    label=\"Sum[XY]Sum[Z] / N\",\n",
    ")\n",
    "plt.step(\n",
    "    x, combined(hist_ker)[\"Sum[XZ]Sum[Y]\"] / n,\n",
    "    label=\"Sum[XZ]Sum[Y] / N\",\n",
    ")\n",
    "plt.step(\n",
    "    x, combined(hist_ker)[\"Sum[YZ]Sum[X]\"] / n,\n",
    "    label=\"Sum[YZ]Sum[X] / N\",\n",
    ")\n",
    "plt.step(\n",
    "    x, combined(hist_ker)[\"Sum[X]Sum[Y]Sum[Z]\"] / n ** 2,\n",
    "    label=\"Sum[X]Sum[Y]Sum[Z] / N ** 2\",\n",
    ")\n",
    "\n",
    "# plt.xlim(0, 100)\n",
    "# plt.ylim(0, None)\n",
    "plt.minorticks_on()\n",
    "plt.grid(True, which=\"both\")\n",
    "plt.legend(shadow=True)\n",
    "\n",
    "plt.tight_layout()\n",
    "plt.show()"
   ]
  }
 ],
 "metadata": {
  "kernelspec": {
   "display_name": "Python 3",
   "language": "python",
   "name": "python3"
  },
  "language_info": {
   "codemirror_mode": {
    "name": "ipython",
    "version": 3
   },
   "file_extension": ".py",
   "mimetype": "text/x-python",
   "name": "python",
   "nbconvert_exporter": "python",
   "pygments_lexer": "ipython3",
   "version": "3.7.0"
  }
 },
 "nbformat": 4,
 "nbformat_minor": 2
}
